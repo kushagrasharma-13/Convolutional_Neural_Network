{
  "nbformat": 4,
  "nbformat_minor": 0,
  "metadata": {
    "colab": {
      "provenance": [],
      "mount_file_id": "1u_ogsOeQRa6CvrA-muF2iLoCKn1xZpFj",
      "authorship_tag": "ABX9TyNsdQyuIgmmoFwxJiob5KbV",
      "include_colab_link": true
    },
    "kernelspec": {
      "name": "python3",
      "display_name": "Python 3"
    },
    "language_info": {
      "name": "python"
    }
  },
  "cells": [
    {
      "cell_type": "markdown",
      "metadata": {
        "id": "view-in-github",
        "colab_type": "text"
      },
      "source": [
        "<a href=\"https://colab.research.google.com/github/kushagrasharma-13/Convolutional_Neural_Network/blob/main/CNN_Animals.ipynb\" target=\"_parent\"><img src=\"https://colab.research.google.com/assets/colab-badge.svg\" alt=\"Open In Colab\"/></a>"
      ]
    },
    {
      "cell_type": "markdown",
      "source": [
        "CNN on Animal Data-set"
      ],
      "metadata": {
        "id": "njDjIE6vublR"
      }
    },
    {
      "cell_type": "code",
      "execution_count": null,
      "metadata": {
        "id": "IfrKYq7BuYbK"
      },
      "outputs": [],
      "source": [
        "import zipfile\n",
        "import numpy as np\n",
        "import seaborn as sns\n",
        "import matplotlib.pyplot as plt\n",
        "from tensorflow.keras.models import load_model\n",
        "from tensorflow.keras.models import Sequential\n",
        "from tensorflow.keras.preprocessing import image\n",
        "from tensorflow.keras.preprocessing.image import ImageDataGenerator as IDG\n",
        "from tensorflow.keras.layers import Dense, Convolution2D, MaxPooling2D, Flatten\n",
        "from sklearn.metrics import confusion_matrix, classification_report, accuracy_score"
      ]
    },
    {
      "cell_type": "code",
      "source": [
        "unzip = zipfile.ZipFile(\"/content/drive/MyDrive/Python/Datasets/Animals_Dataset.zip\",'r')\n",
        "file_paths = unzip.namelist()\n",
        "for path in file_paths:\n",
        "  unzip.extract(path)"
      ],
      "metadata": {
        "id": "3spLVgFNusT1"
      },
      "execution_count": null,
      "outputs": []
    },
    {
      "cell_type": "code",
      "source": [
        "train_datagen = IDG(rescale=1./255,\n",
        "              zoom_range=0.2,\n",
        "              horizontal_flip=True,\n",
        "              fill_mode='nearest')"
      ],
      "metadata": {
        "id": "W90su9YuvGcN"
      },
      "execution_count": null,
      "outputs": []
    },
    {
      "cell_type": "code",
      "source": [
        "test_datagen = IDG(rescale=1./255)"
      ],
      "metadata": {
        "id": "1YAZEmV_vUc-"
      },
      "execution_count": null,
      "outputs": []
    },
    {
      "cell_type": "code",
      "source": [
        "pwd"
      ],
      "metadata": {
        "colab": {
          "base_uri": "https://localhost:8080/",
          "height": 35
        },
        "id": "uVkYpBmLvwyv",
        "outputId": "afacac3b-6dc6-4ced-9010-9de624bfd065"
      },
      "execution_count": null,
      "outputs": [
        {
          "output_type": "execute_result",
          "data": {
            "text/plain": [
              "'/content'"
            ],
            "application/vnd.google.colaboratory.intrinsic+json": {
              "type": "string"
            }
          },
          "metadata": {},
          "execution_count": 5
        }
      ]
    },
    {
      "cell_type": "code",
      "source": [
        "ls"
      ],
      "metadata": {
        "colab": {
          "base_uri": "https://localhost:8080/"
        },
        "id": "WjlM_Hplv0Mo",
        "outputId": "f9f7bb62-8b11-41ef-8570-d68b85ab436b"
      },
      "execution_count": null,
      "outputs": [
        {
          "output_type": "stream",
          "name": "stdout",
          "text": [
            "\u001b[0m\u001b[01;34mdataset\u001b[0m/  \u001b[01;34mdrive\u001b[0m/  \u001b[01;34msample_data\u001b[0m/\n"
          ]
        }
      ]
    },
    {
      "cell_type": "code",
      "source": [
        "cd /content/dataset"
      ],
      "metadata": {
        "colab": {
          "base_uri": "https://localhost:8080/"
        },
        "id": "J8qheWedv0kX",
        "outputId": "356d9428-42a0-41e9-a8d5-f311e020dbf0"
      },
      "execution_count": null,
      "outputs": [
        {
          "output_type": "stream",
          "name": "stdout",
          "text": [
            "/content/dataset\n"
          ]
        }
      ]
    },
    {
      "cell_type": "code",
      "source": [
        "ls"
      ],
      "metadata": {
        "colab": {
          "base_uri": "https://localhost:8080/"
        },
        "id": "GU7xJ5Gsv5LB",
        "outputId": "ec3cefb1-6561-4ed6-a02e-fc8dcf7706e1"
      },
      "execution_count": null,
      "outputs": [
        {
          "output_type": "stream",
          "name": "stdout",
          "text": [
            "\u001b[0m\u001b[01;34mTesting\u001b[0m/  \u001b[01;34mTraining\u001b[0m/\n"
          ]
        }
      ]
    },
    {
      "cell_type": "code",
      "source": [
        "x_train = train_datagen.flow_from_directory('/content/dataset/Training',\n",
        "                                            target_size=(255,195),\n",
        "                                            class_mode='categorical',\n",
        "                                            batch_size=24)"
      ],
      "metadata": {
        "colab": {
          "base_uri": "https://localhost:8080/"
        },
        "id": "oon6EKVSv5rr",
        "outputId": "3359ef9d-472d-4ee3-f24c-7abeb28bb2ac"
      },
      "execution_count": null,
      "outputs": [
        {
          "output_type": "stream",
          "name": "stdout",
          "text": [
            "Found 1238 images belonging to 4 classes.\n"
          ]
        }
      ]
    },
    {
      "cell_type": "code",
      "source": [
        "x_test = test_datagen.flow_from_directory('/content/dataset/Testing',\n",
        "                                          target_size=(255,195),\n",
        "                                          class_mode='categorical',\n",
        "                                          batch_size=24)"
      ],
      "metadata": {
        "colab": {
          "base_uri": "https://localhost:8080/"
        },
        "id": "pD9tAEbxwK9t",
        "outputId": "14a2e8d8-34d7-4529-b9c6-a6ee1454b032"
      },
      "execution_count": null,
      "outputs": [
        {
          "output_type": "stream",
          "name": "stdout",
          "text": [
            "Found 326 images belonging to 4 classes.\n"
          ]
        }
      ]
    },
    {
      "cell_type": "code",
      "source": [
        "len(x_train)"
      ],
      "metadata": {
        "colab": {
          "base_uri": "https://localhost:8080/"
        },
        "id": "2nM-m2Hbweme",
        "outputId": "43ac5e8c-e360-4548-99c3-b0b84891cd25"
      },
      "execution_count": null,
      "outputs": [
        {
          "output_type": "execute_result",
          "data": {
            "text/plain": [
              "52"
            ]
          },
          "metadata": {},
          "execution_count": 11
        }
      ]
    },
    {
      "cell_type": "code",
      "source": [
        "x_train.class_indices"
      ],
      "metadata": {
        "colab": {
          "base_uri": "https://localhost:8080/"
        },
        "id": "8gEWOuvOwgSr",
        "outputId": "a9740caa-63ea-4d23-8ebc-9ea24e7a783d"
      },
      "execution_count": null,
      "outputs": [
        {
          "output_type": "execute_result",
          "data": {
            "text/plain": [
              "{'bears': 0, 'crows': 1, 'elephants': 2, 'rats': 3}"
            ]
          },
          "metadata": {},
          "execution_count": 12
        }
      ]
    },
    {
      "cell_type": "code",
      "source": [
        "model = Sequential()\n",
        "model.add(Convolution2D(32,(3,3),input_shape=(255,195,3),activation='relu',))\n",
        "model.add(MaxPooling2D(pool_size=(2,2)))\n",
        "model.add(Convolution2D(32,(3,3),input_shape=(255,195,3),activation='relu'))\n",
        "model.add(MaxPooling2D(pool_size=(2,2)))\n",
        "model.add(Convolution2D(32,(3,3),input_shape=(255,195,3),activation='relu'))\n",
        "model.add(MaxPooling2D(pool_size=(2,2)))\n",
        "model.add(Flatten())\n",
        "model.add(Dense(300,activation='relu'))\n",
        "model.add(Dense(150,activation='relu'))\n",
        "model.add(Dense(4,activation='softmax')) #softmax -> multiclass classification # 4 -> no. of classes"
      ],
      "metadata": {
        "id": "S5fvsp4Xwh1Z"
      },
      "execution_count": null,
      "outputs": []
    },
    {
      "cell_type": "code",
      "source": [
        "model.compile(loss='categorical_crossentropy',optimizer='adam',metrics=['accuracy'])"
      ],
      "metadata": {
        "id": "Gw3_nedmwyW4"
      },
      "execution_count": null,
      "outputs": []
    },
    {
      "cell_type": "code",
      "source": [
        "history = model.fit_generator(x_train,steps_per_epoch=len(x_train),epochs=2,validation_steps=len(x_test))"
      ],
      "metadata": {
        "colab": {
          "base_uri": "https://localhost:8080/"
        },
        "id": "qnfDHBtBwzGS",
        "outputId": "97503478-a8d6-429c-ce13-b56916726a60"
      },
      "execution_count": null,
      "outputs": [
        {
          "output_type": "stream",
          "name": "stderr",
          "text": [
            "<ipython-input-15-c7cb529a27b4>:1: UserWarning: `Model.fit_generator` is deprecated and will be removed in a future version. Please use `Model.fit`, which supports generators.\n",
            "  history = model.fit_generator(x_train,steps_per_epoch=len(x_train),epochs=2,validation_steps=len(x_test))\n"
          ]
        },
        {
          "output_type": "stream",
          "name": "stdout",
          "text": [
            "Epoch 1/2\n",
            "52/52 [==============================] - 69s 1s/step - loss: 1.3118 - accuracy: 0.3570\n",
            "Epoch 2/2\n",
            "52/52 [==============================] - 66s 1s/step - loss: 0.9601 - accuracy: 0.6115\n"
          ]
        }
      ]
    },
    {
      "cell_type": "code",
      "source": [
        "model.summary()"
      ],
      "metadata": {
        "colab": {
          "base_uri": "https://localhost:8080/"
        },
        "id": "zjuw90agHhTj",
        "outputId": "e3c0a4de-843e-4872-e5d0-c25d2e814cd9"
      },
      "execution_count": null,
      "outputs": [
        {
          "output_type": "stream",
          "name": "stdout",
          "text": [
            "Model: \"sequential\"\n",
            "_________________________________________________________________\n",
            " Layer (type)                Output Shape              Param #   \n",
            "=================================================================\n",
            " conv2d (Conv2D)             (None, 253, 193, 32)      896       \n",
            "                                                                 \n",
            " max_pooling2d (MaxPooling2D  (None, 126, 96, 32)      0         \n",
            " )                                                               \n",
            "                                                                 \n",
            " conv2d_1 (Conv2D)           (None, 124, 94, 32)       9248      \n",
            "                                                                 \n",
            " max_pooling2d_1 (MaxPooling  (None, 62, 47, 32)       0         \n",
            " 2D)                                                             \n",
            "                                                                 \n",
            " conv2d_2 (Conv2D)           (None, 60, 45, 32)        9248      \n",
            "                                                                 \n",
            " max_pooling2d_2 (MaxPooling  (None, 30, 22, 32)       0         \n",
            " 2D)                                                             \n",
            "                                                                 \n",
            " flatten (Flatten)           (None, 21120)             0         \n",
            "                                                                 \n",
            " dense (Dense)               (None, 300)               6336300   \n",
            "                                                                 \n",
            " dense_1 (Dense)             (None, 150)               45150     \n",
            "                                                                 \n",
            " dense_2 (Dense)             (None, 4)                 604       \n",
            "                                                                 \n",
            "=================================================================\n",
            "Total params: 6,401,446\n",
            "Trainable params: 6,401,446\n",
            "Non-trainable params: 0\n",
            "_________________________________________________________________\n"
          ]
        }
      ]
    },
    {
      "cell_type": "code",
      "source": [
        "model.save('animal.h5')"
      ],
      "metadata": {
        "id": "KcBgyfkAw9Fo"
      },
      "execution_count": null,
      "outputs": []
    },
    {
      "cell_type": "code",
      "source": [
        "model = load_model('animal.h5',)"
      ],
      "metadata": {
        "id": "uBKvbC6jxDq2"
      },
      "execution_count": null,
      "outputs": []
    },
    {
      "cell_type": "code",
      "source": [
        "img = image.load_img(\"/content/dataset/Testing/elephants/images (43).jpeg\",target_size=(255,195))\n",
        "img"
      ],
      "metadata": {
        "id": "X7xWHdt5xIZZ",
        "colab": {
          "base_uri": "https://localhost:8080/",
          "height": 272
        },
        "outputId": "df52eebe-1b09-4c98-af45-ff9a46c8e251"
      },
      "execution_count": null,
      "outputs": [
        {
          "output_type": "execute_result",
          "data": {
            "text/plain": [
              "<PIL.Image.Image image mode=RGB size=195x255 at 0x7F0C96FE7A00>"
            ],
            "image/png": "[encoded data removed]"
          },
          "metadata": {},
          "execution_count": 18
        }
      ]
    },
    {
      "cell_type": "code",
      "source": [
        "x = image.img_to_array(img)\n",
        "x"
      ],
      "metadata": {
        "id": "athwhrtPxOJB",
        "colab": {
          "base_uri": "https://localhost:8080/"
        },
        "outputId": "d8272b7e-38d9-47ad-c5a5-b6e965e33ffa"
      },
      "execution_count": null,
      "outputs": [
        {
          "output_type": "execute_result",
          "data": {
            "text/plain": [
              "array([[[ 20.,  40.,  31.],\n",
              "        [ 32.,  52.,  43.],\n",
              "        [ 38.,  58.,  49.],\n",
              "        ...,\n",
              "        [ 44.,  84.,  34.],\n",
              "        [ 44.,  82.,  35.],\n",
              "        [ 43.,  81.,  34.]],\n",
              "\n",
              "       [[ 20.,  40.,  31.],\n",
              "        [ 31.,  51.,  42.],\n",
              "        [ 31.,  51.,  42.],\n",
              "        ...,\n",
              "        [ 72., 112.,  62.],\n",
              "        [ 62.,  99.,  55.],\n",
              "        [ 53.,  90.,  46.]],\n",
              "\n",
              "       [[ 20.,  40.,  31.],\n",
              "        [ 31.,  51.,  42.],\n",
              "        [ 31.,  51.,  42.],\n",
              "        ...,\n",
              "        [ 72., 112.,  62.],\n",
              "        [ 62.,  99.,  55.],\n",
              "        [ 53.,  90.,  46.]],\n",
              "\n",
              "       ...,\n",
              "\n",
              "       [[ 58.,  66.,  51.],\n",
              "        [ 54.,  62.,  47.],\n",
              "        [ 54.,  62.,  51.],\n",
              "        ...,\n",
              "        [ 91.,  83.,  72.],\n",
              "        [ 77.,  73.,  61.],\n",
              "        [ 80.,  76.,  64.]],\n",
              "\n",
              "       [[ 58.,  66.,  51.],\n",
              "        [ 54.,  62.,  47.],\n",
              "        [ 54.,  62.,  51.],\n",
              "        ...,\n",
              "        [ 91.,  83.,  72.],\n",
              "        [ 77.,  73.,  61.],\n",
              "        [ 80.,  76.,  64.]],\n",
              "\n",
              "       [[ 52.,  60.,  45.],\n",
              "        [ 47.,  55.,  40.],\n",
              "        [ 40.,  48.,  37.],\n",
              "        ...,\n",
              "        [ 86.,  78.,  67.],\n",
              "        [ 77.,  73.,  61.],\n",
              "        [ 80.,  76.,  64.]]], dtype=float32)"
            ]
          },
          "metadata": {},
          "execution_count": 19
        }
      ]
    },
    {
      "cell_type": "code",
      "source": [
        "x.ndim"
      ],
      "metadata": {
        "id": "_wh_u0KoxPgx",
        "colab": {
          "base_uri": "https://localhost:8080/"
        },
        "outputId": "614e9940-2056-456e-e74a-d06049c1b374"
      },
      "execution_count": null,
      "outputs": [
        {
          "output_type": "execute_result",
          "data": {
            "text/plain": [
              "3"
            ]
          },
          "metadata": {},
          "execution_count": 20
        }
      ]
    },
    {
      "cell_type": "code",
      "source": [
        "x = np.expand_dims(x,axis=0)\n",
        "x"
      ],
      "metadata": {
        "id": "jtn6Um4hxThQ",
        "colab": {
          "base_uri": "https://localhost:8080/"
        },
        "outputId": "781ee750-950f-4755-9f26-34873fb4eee5"
      },
      "execution_count": null,
      "outputs": [
        {
          "output_type": "execute_result",
          "data": {
            "text/plain": [
              "array([[[[ 20.,  40.,  31.],\n",
              "         [ 32.,  52.,  43.],\n",
              "         [ 38.,  58.,  49.],\n",
              "         ...,\n",
              "         [ 44.,  84.,  34.],\n",
              "         [ 44.,  82.,  35.],\n",
              "         [ 43.,  81.,  34.]],\n",
              "\n",
              "        [[ 20.,  40.,  31.],\n",
              "         [ 31.,  51.,  42.],\n",
              "         [ 31.,  51.,  42.],\n",
              "         ...,\n",
              "         [ 72., 112.,  62.],\n",
              "         [ 62.,  99.,  55.],\n",
              "         [ 53.,  90.,  46.]],\n",
              "\n",
              "        [[ 20.,  40.,  31.],\n",
              "         [ 31.,  51.,  42.],\n",
              "         [ 31.,  51.,  42.],\n",
              "         ...,\n",
              "         [ 72., 112.,  62.],\n",
              "         [ 62.,  99.,  55.],\n",
              "         [ 53.,  90.,  46.]],\n",
              "\n",
              "        ...,\n",
              "\n",
              "        [[ 58.,  66.,  51.],\n",
              "         [ 54.,  62.,  47.],\n",
              "         [ 54.,  62.,  51.],\n",
              "         ...,\n",
              "         [ 91.,  83.,  72.],\n",
              "         [ 77.,  73.,  61.],\n",
              "         [ 80.,  76.,  64.]],\n",
              "\n",
              "        [[ 58.,  66.,  51.],\n",
              "         [ 54.,  62.,  47.],\n",
              "         [ 54.,  62.,  51.],\n",
              "         ...,\n",
              "         [ 91.,  83.,  72.],\n",
              "         [ 77.,  73.,  61.],\n",
              "         [ 80.,  76.,  64.]],\n",
              "\n",
              "        [[ 52.,  60.,  45.],\n",
              "         [ 47.,  55.,  40.],\n",
              "         [ 40.,  48.,  37.],\n",
              "         ...,\n",
              "         [ 86.,  78.,  67.],\n",
              "         [ 77.,  73.,  61.],\n",
              "         [ 80.,  76.,  64.]]]], dtype=float32)"
            ]
          },
          "metadata": {},
          "execution_count": 21
        }
      ]
    },
    {
      "cell_type": "code",
      "source": [
        "x.ndim"
      ],
      "metadata": {
        "id": "bY16oySAxVzI",
        "colab": {
          "base_uri": "https://localhost:8080/"
        },
        "outputId": "ebce03d5-21b7-4b99-e1e7-2be254c9170d"
      },
      "execution_count": null,
      "outputs": [
        {
          "output_type": "execute_result",
          "data": {
            "text/plain": [
              "4"
            ]
          },
          "metadata": {},
          "execution_count": 22
        }
      ]
    },
    {
      "cell_type": "code",
      "source": [
        "pred = np.argmax(model.predict(x))\n",
        "print(pred)\n",
        "#{'bears': 0, 'crows': 1, 'elephants': 2, 'rats': 3}\n",
        "index = ['bears', 'crows', 'elephants', 'rats']\n",
        "index[pred]"
      ],
      "metadata": {
        "id": "DcNBVMGvxX5r",
        "colab": {
          "base_uri": "https://localhost:8080/",
          "height": 70
        },
        "outputId": "d0c5b5db-d123-428d-9def-cb388572fac0"
      },
      "execution_count": null,
      "outputs": [
        {
          "output_type": "stream",
          "name": "stdout",
          "text": [
            "1/1 [==============================] - 0s 70ms/step\n",
            "2\n"
          ]
        },
        {
          "output_type": "execute_result",
          "data": {
            "text/plain": [
              "'elephants'"
            ],
            "application/vnd.google.colaboratory.intrinsic+json": {
              "type": "string"
            }
          },
          "metadata": {},
          "execution_count": 25
        }
      ]
    },
    {
      "cell_type": "code",
      "source": [
        "img = image.load_img(\"/content/dataset/Testing/bears/k4 (100).jpg\",target_size=(255,195))\n",
        "x = image.img_to_array(img)\n",
        "x = np.expand_dims(x,axis=0)\n",
        "pred = np.argmax(model.predict(x))\n",
        "ele = ['bears', 'crows', 'elephants', 'rats']\n",
        "ele[pred]"
      ],
      "metadata": {
        "colab": {
          "base_uri": "https://localhost:8080/",
          "height": 53
        },
        "id": "pmVlQq7EHris",
        "outputId": "f9e74cbb-bcef-4569-c56b-152d24760cbd"
      },
      "execution_count": null,
      "outputs": [
        {
          "output_type": "stream",
          "name": "stdout",
          "text": [
            "1/1 [==============================] - 0s 62ms/step\n"
          ]
        },
        {
          "output_type": "execute_result",
          "data": {
            "text/plain": [
              "'crows'"
            ],
            "application/vnd.google.colaboratory.intrinsic+json": {
              "type": "string"
            }
          },
          "metadata": {},
          "execution_count": 30
        }
      ]
    }
  ]
}